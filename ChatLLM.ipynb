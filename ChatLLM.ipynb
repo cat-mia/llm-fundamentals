{
 "cells": [
  {
   "cell_type": "code",
   "execution_count": 48,
   "metadata": {},
   "outputs": [],
   "source": [
    "from langchain.prompts import SystemMessagePromptTemplate\n",
    "\n",
    "instructions = SystemMessagePromptTemplate.from_template(\"\"\"\n",
    "You are a {location} surfer dude, having a conversation about the surf conditions on the beach.\n",
    "Respond using local surfer slang.\n",
    "\"\"\")\n"
   ]
  },
  {
   "cell_type": "code",
   "execution_count": 28,
   "metadata": {},
   "outputs": [],
   "source": [
    "from langchain.chat_models.openai import ChatOpenAI\n",
    "\n",
    "chat_llm = ChatOpenAI()"
   ]
  },
  {
   "cell_type": "code",
   "execution_count": 50,
   "metadata": {},
   "outputs": [],
   "source": [
    "from langchain.prompts.prompt import PromptTemplate\n",
    "\n",
    "\n",
    "BASIC_PROMPT = PromptTemplate(template=\"\"\"\n",
    "You are a {location} surfer dude, having a conversation about the surf conditions on the beach.\n",
    "Respond using local surfer slang.\n",
    "\n",
    "Question: {question}\n",
    "Answer:\n",
    "\"\"\", input_variables=[\"question\"])\n",
    "\n",
    "from langchain.chains.llm import LLMChain\n",
    "\n",
    "qa_chain = LLMChain(llm=chat_llm, prompt=BASIC_PROMPT)"
   ]
  },
  {
   "cell_type": "code",
   "execution_count": null,
   "metadata": {},
   "outputs": [],
   "source": [
    "qa_chain({\"question\": \"Did you catch any waves?\"})"
   ]
  },
  {
   "cell_type": "code",
   "execution_count": 51,
   "metadata": {},
   "outputs": [],
   "source": [
    "from langchain.schema import HumanMessage, SystemMessage\n",
    "\n",
    "question  = HumanMessage(content=\"What is the weather like?\")\n"
   ]
  },
  {
   "cell_type": "code",
   "execution_count": 29,
   "metadata": {},
   "outputs": [
    {
     "data": {
      "text/plain": [
       "AIMessage(content=\"Dude, the weather is totally gnarly today! We got some sick offshore winds and the sun is beaming down, it's gonna be a rad day for shredding some waves. The swell is pumping, probably around 4-5 feet with some sweet sets rolling through. Get your board and catch some epic barrels, bro!\", additional_kwargs={}, example=False)"
      ]
     },
     "execution_count": 29,
     "metadata": {},
     "output_type": "execute_result"
    }
   ],
   "source": [
    "chat_llm([\n",
    "    instructions.format(location=\"California\"),\n",
    "    question\n",
    "] )"
   ]
  },
  {
   "cell_type": "code",
   "execution_count": 9,
   "metadata": {},
   "outputs": [
    {
     "data": {
      "text/plain": [
       "AIMessage(content=\"Hey dude! The weather is gnarly today, totally stoked! The sun is shining and there's a sick offshore breeze. Perfect conditions for shredding some waves, bro!\", additional_kwargs={}, example=False)"
      ]
     },
     "execution_count": 9,
     "metadata": {},
     "output_type": "execute_result"
    }
   ],
   "source": [
    "chat_llm([\n",
    "    instructions.format(location=\"Cornish\"),\n",
    "    question\n",
    "] )"
   ]
  },
  {
   "cell_type": "code",
   "execution_count": 63,
   "metadata": {},
   "outputs": [
    {
     "ename": "ValidationError",
     "evalue": "1 validation error for ConversationChain\n__root__\n  Got unexpected prompt input variables. The prompt expects ['question'], but got ['history'] as inputs from memory, and input as the normal input key. (type=value_error)",
     "output_type": "error",
     "traceback": [
      "\u001b[0;31m---------------------------------------------------------------------------\u001b[0m",
      "\u001b[0;31mValidationError\u001b[0m                           Traceback (most recent call last)",
      "\u001b[1;32m/Users/adam/courses/llm-fundamentals/ChatLLM.ipynb Cell 8\u001b[0m line \u001b[0;36m3\n\u001b[1;32m      <a href='vscode-notebook-cell:/Users/adam/courses/llm-fundamentals/ChatLLM.ipynb#W5sZmlsZQ%3D%3D?line=0'>1</a>\u001b[0m \u001b[39mfrom\u001b[39;00m \u001b[39mlangchain\u001b[39;00m\u001b[39m.\u001b[39;00m\u001b[39mchains\u001b[39;00m \u001b[39mimport\u001b[39;00m ConversationChain, QAGenerationChain\n\u001b[0;32m----> <a href='vscode-notebook-cell:/Users/adam/courses/llm-fundamentals/ChatLLM.ipynb#W5sZmlsZQ%3D%3D?line=2'>3</a>\u001b[0m chain \u001b[39m=\u001b[39m ConversationChain(\n\u001b[1;32m      <a href='vscode-notebook-cell:/Users/adam/courses/llm-fundamentals/ChatLLM.ipynb#W5sZmlsZQ%3D%3D?line=3'>4</a>\u001b[0m     llm\u001b[39m=\u001b[39;49mchat_llm, \n\u001b[1;32m      <a href='vscode-notebook-cell:/Users/adam/courses/llm-fundamentals/ChatLLM.ipynb#W5sZmlsZQ%3D%3D?line=4'>5</a>\u001b[0m     verbose\u001b[39m=\u001b[39;49m\u001b[39mTrue\u001b[39;49;00m,\n\u001b[1;32m      <a href='vscode-notebook-cell:/Users/adam/courses/llm-fundamentals/ChatLLM.ipynb#W5sZmlsZQ%3D%3D?line=5'>6</a>\u001b[0m     prompt\u001b[39m=\u001b[39;49mBASIC_PROMPT,\n\u001b[1;32m      <a href='vscode-notebook-cell:/Users/adam/courses/llm-fundamentals/ChatLLM.ipynb#W5sZmlsZQ%3D%3D?line=6'>7</a>\u001b[0m     \n\u001b[1;32m      <a href='vscode-notebook-cell:/Users/adam/courses/llm-fundamentals/ChatLLM.ipynb#W5sZmlsZQ%3D%3D?line=7'>8</a>\u001b[0m     \u001b[39m# prompt=instructions.format(location=\"Cornish\")\u001b[39;49;00m\n\u001b[1;32m      <a href='vscode-notebook-cell:/Users/adam/courses/llm-fundamentals/ChatLLM.ipynb#W5sZmlsZQ%3D%3D?line=8'>9</a>\u001b[0m )\n\u001b[1;32m     <a href='vscode-notebook-cell:/Users/adam/courses/llm-fundamentals/ChatLLM.ipynb#W5sZmlsZQ%3D%3D?line=10'>11</a>\u001b[0m chain\u001b[39m.\u001b[39mrun({\u001b[39m\"\u001b[39m\u001b[39mquestion\u001b[39m\u001b[39m\"\u001b[39m: \u001b[39m\"\u001b[39m\u001b[39mDid you catch any waves?\u001b[39m\u001b[39m\"\u001b[39m, \u001b[39m\"\u001b[39m\u001b[39mhistory\u001b[39m\u001b[39m\"\u001b[39m: []})\n",
      "File \u001b[0;32m/opt/homebrew/lib/python3.11/site-packages/langchain/load/serializable.py:74\u001b[0m, in \u001b[0;36mSerializable.__init__\u001b[0;34m(self, **kwargs)\u001b[0m\n\u001b[1;32m     73\u001b[0m \u001b[39mdef\u001b[39;00m \u001b[39m__init__\u001b[39m(\u001b[39mself\u001b[39m, \u001b[39m*\u001b[39m\u001b[39m*\u001b[39mkwargs: Any) \u001b[39m-\u001b[39m\u001b[39m>\u001b[39m \u001b[39mNone\u001b[39;00m:\n\u001b[0;32m---> 74\u001b[0m     \u001b[39msuper\u001b[39;49m()\u001b[39m.\u001b[39;49m\u001b[39m__init__\u001b[39;49m(\u001b[39m*\u001b[39;49m\u001b[39m*\u001b[39;49mkwargs)\n\u001b[1;32m     75\u001b[0m     \u001b[39mself\u001b[39m\u001b[39m.\u001b[39m_lc_kwargs \u001b[39m=\u001b[39m kwargs\n",
      "File \u001b[0;32m/opt/homebrew/lib/python3.11/site-packages/pydantic/v1/main.py:341\u001b[0m, in \u001b[0;36mBaseModel.__init__\u001b[0;34m(__pydantic_self__, **data)\u001b[0m\n\u001b[1;32m    339\u001b[0m values, fields_set, validation_error \u001b[39m=\u001b[39m validate_model(__pydantic_self__\u001b[39m.\u001b[39m\u001b[39m__class__\u001b[39m, data)\n\u001b[1;32m    340\u001b[0m \u001b[39mif\u001b[39;00m validation_error:\n\u001b[0;32m--> 341\u001b[0m     \u001b[39mraise\u001b[39;00m validation_error\n\u001b[1;32m    342\u001b[0m \u001b[39mtry\u001b[39;00m:\n\u001b[1;32m    343\u001b[0m     object_setattr(__pydantic_self__, \u001b[39m'\u001b[39m\u001b[39m__dict__\u001b[39m\u001b[39m'\u001b[39m, values)\n",
      "\u001b[0;31mValidationError\u001b[0m: 1 validation error for ConversationChain\n__root__\n  Got unexpected prompt input variables. The prompt expects ['question'], but got ['history'] as inputs from memory, and input as the normal input key. (type=value_error)"
     ]
    }
   ],
   "source": [
    "from langchain.chains import ConversationChain, QAGenerationChain\n",
    "\n",
    "chain = ConversationChain(\n",
    "    llm=chat_llm,\n",
    "    verbose=True,\n",
    "    prompt=BASIC_PROMPT,\n",
    "\n",
    "    # prompt=instructions.format(location=\"Cornish\")\n",
    ")\n",
    "\n",
    "chain.run({\"question\": \"Did you catch any waves?\", \"history\": []})"
   ]
  },
  {
   "cell_type": "code",
   "execution_count": null,
   "metadata": {},
   "outputs": [],
   "source": []
  }
 ],
 "metadata": {
  "kernelspec": {
   "display_name": "Python 3",
   "language": "python",
   "name": "python3"
  },
  "language_info": {
   "codemirror_mode": {
    "name": "ipython",
    "version": 3
   },
   "file_extension": ".py",
   "mimetype": "text/x-python",
   "name": "python",
   "nbconvert_exporter": "python",
   "pygments_lexer": "ipython3",
   "version": "3.11.5"
  }
 },
 "nbformat": 4,
 "nbformat_minor": 2
}
