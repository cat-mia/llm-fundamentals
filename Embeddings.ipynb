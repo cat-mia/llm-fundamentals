{
 "cells": [
  {
   "cell_type": "code",
   "execution_count": 40,
   "metadata": {},
   "outputs": [],
   "source": [
    "# %load_ext dotenv\n",
    "%dotenv"
   ]
  },
  {
   "cell_type": "code",
   "execution_count": 8,
   "metadata": {},
   "outputs": [],
   "source": [
    "import os\n",
    "from neo4j import GraphDatabase, Result\n",
    "\n",
    "driver = GraphDatabase.driver(\n",
    "    os.getenv(\"NEO4J_URI\"),\n",
    "    auth=(os.getenv(\"NEO4J_USERNAME\"), os.getenv(\"NEO4J_PASSWORD\"))\n",
    ")\n",
    "\n",
    "driver.verify_connectivity()"
   ]
  },
  {
   "cell_type": "code",
   "execution_count": 29,
   "metadata": {},
   "outputs": [
    {
     "data": {
      "text/plain": [
       "9083"
      ]
     },
     "execution_count": 29,
     "metadata": {},
     "output_type": "execute_result"
    }
   ],
   "source": [
    "movies = driver.execute_query(\"\"\"\n",
    "MATCH (m:Movie) WHERE m.plot IS NOT NULL\n",
    "RETURN m.movieId AS movieId, m.title AS title, m.plot AS plot\n",
    "LIMIT 1000\n",
    "\"\"\",\n",
    "result_transformer_=Result.to_df)\n",
    "\n",
    "len(movies)\n"
   ]
  },
  {
   "cell_type": "code",
   "execution_count": 11,
   "metadata": {},
   "outputs": [
    {
     "data": {
      "text/html": [
       "<div>\n",
       "<style scoped>\n",
       "    .dataframe tbody tr th:only-of-type {\n",
       "        vertical-align: middle;\n",
       "    }\n",
       "\n",
       "    .dataframe tbody tr th {\n",
       "        vertical-align: top;\n",
       "    }\n",
       "\n",
       "    .dataframe thead th {\n",
       "        text-align: right;\n",
       "    }\n",
       "</style>\n",
       "<table border=\"1\" class=\"dataframe\">\n",
       "  <thead>\n",
       "    <tr style=\"text-align: right;\">\n",
       "      <th></th>\n",
       "      <th>movieId</th>\n",
       "      <th>title</th>\n",
       "      <th>plot</th>\n",
       "    </tr>\n",
       "  </thead>\n",
       "  <tbody>\n",
       "    <tr>\n",
       "      <th>0</th>\n",
       "      <td>1</td>\n",
       "      <td>Toy Story</td>\n",
       "      <td>A cowboy doll is profoundly threatened and jea...</td>\n",
       "    </tr>\n",
       "    <tr>\n",
       "      <th>1</th>\n",
       "      <td>2</td>\n",
       "      <td>Jumanji</td>\n",
       "      <td>When two kids find and play a magical board ga...</td>\n",
       "    </tr>\n",
       "    <tr>\n",
       "      <th>2</th>\n",
       "      <td>3</td>\n",
       "      <td>Grumpier Old Men</td>\n",
       "      <td>John and Max resolve to save their beloved bai...</td>\n",
       "    </tr>\n",
       "    <tr>\n",
       "      <th>3</th>\n",
       "      <td>4</td>\n",
       "      <td>Waiting to Exhale</td>\n",
       "      <td>Based on Terry McMillan's novel, this film fol...</td>\n",
       "    </tr>\n",
       "    <tr>\n",
       "      <th>4</th>\n",
       "      <td>5</td>\n",
       "      <td>Father of the Bride Part II</td>\n",
       "      <td>In this sequel, George Banks deals not only wi...</td>\n",
       "    </tr>\n",
       "    <tr>\n",
       "      <th>5</th>\n",
       "      <td>6</td>\n",
       "      <td>Heat</td>\n",
       "      <td>A group of professional bank robbers start to ...</td>\n",
       "    </tr>\n",
       "    <tr>\n",
       "      <th>6</th>\n",
       "      <td>7</td>\n",
       "      <td>Sabrina</td>\n",
       "      <td>An ugly duckling having undergone a remarkable...</td>\n",
       "    </tr>\n",
       "    <tr>\n",
       "      <th>7</th>\n",
       "      <td>8</td>\n",
       "      <td>Tom and Huck</td>\n",
       "      <td>Tom and Huck witness Injun Joe's killing of Do...</td>\n",
       "    </tr>\n",
       "    <tr>\n",
       "      <th>8</th>\n",
       "      <td>9</td>\n",
       "      <td>Sudden Death</td>\n",
       "      <td>A former fireman takes on a group of terrorist...</td>\n",
       "    </tr>\n",
       "    <tr>\n",
       "      <th>9</th>\n",
       "      <td>10</td>\n",
       "      <td>GoldenEye</td>\n",
       "      <td>James Bond teams up with the lone survivor of ...</td>\n",
       "    </tr>\n",
       "  </tbody>\n",
       "</table>\n",
       "</div>"
      ],
      "text/plain": [
       "  movieId                        title  \\\n",
       "0       1                    Toy Story   \n",
       "1       2                      Jumanji   \n",
       "2       3             Grumpier Old Men   \n",
       "3       4            Waiting to Exhale   \n",
       "4       5  Father of the Bride Part II   \n",
       "5       6                         Heat   \n",
       "6       7                      Sabrina   \n",
       "7       8                 Tom and Huck   \n",
       "8       9                 Sudden Death   \n",
       "9      10                    GoldenEye   \n",
       "\n",
       "                                                plot  \n",
       "0  A cowboy doll is profoundly threatened and jea...  \n",
       "1  When two kids find and play a magical board ga...  \n",
       "2  John and Max resolve to save their beloved bai...  \n",
       "3  Based on Terry McMillan's novel, this film fol...  \n",
       "4  In this sequel, George Banks deals not only wi...  \n",
       "5  A group of professional bank robbers start to ...  \n",
       "6  An ugly duckling having undergone a remarkable...  \n",
       "7  Tom and Huck witness Injun Joe's killing of Do...  \n",
       "8  A former fireman takes on a group of terrorist...  \n",
       "9  James Bond teams up with the lone survivor of ...  "
      ]
     },
     "execution_count": 11,
     "metadata": {},
     "output_type": "execute_result"
    }
   ],
   "source": [
    "movies[0:10]"
   ]
  },
  {
   "cell_type": "code",
   "execution_count": 30,
   "metadata": {},
   "outputs": [],
   "source": [
    "from requests import post\n",
    "from json import dumps, loads\n",
    "\n",
    "embeddings = []\n",
    "\n",
    "for _, n in movies.iterrows():\n",
    "    res = post(\"http://localhost:11434/api/embeddings\", dumps({\n",
    "        \"model\": \"orca-mini\",\n",
    "        \"prompt\": f\"{n['title']}: {n['plot']}\"\n",
    "    }))\n",
    "\n",
    "    json = loads(res.content)\n",
    "\n",
    "    embeddings.append({\"movieId\": n['movieId'], \"embedding\": json['embedding']})"
   ]
  },
  {
   "cell_type": "code",
   "execution_count": 31,
   "metadata": {},
   "outputs": [
    {
     "data": {
      "text/html": [
       "<div>\n",
       "<style scoped>\n",
       "    .dataframe tbody tr th:only-of-type {\n",
       "        vertical-align: middle;\n",
       "    }\n",
       "\n",
       "    .dataframe tbody tr th {\n",
       "        vertical-align: top;\n",
       "    }\n",
       "\n",
       "    .dataframe thead th {\n",
       "        text-align: right;\n",
       "    }\n",
       "</style>\n",
       "<table border=\"1\" class=\"dataframe\">\n",
       "  <thead>\n",
       "    <tr style=\"text-align: right;\">\n",
       "      <th></th>\n",
       "      <th>movieId</th>\n",
       "      <th>embedding</th>\n",
       "    </tr>\n",
       "  </thead>\n",
       "  <tbody>\n",
       "    <tr>\n",
       "      <th>0</th>\n",
       "      <td>1</td>\n",
       "      <td>[0.41867926716804504, -3.812939167022705, -0.1...</td>\n",
       "    </tr>\n",
       "    <tr>\n",
       "      <th>1</th>\n",
       "      <td>2</td>\n",
       "      <td>[-0.438289076089859, -1.320231556892395, 0.694...</td>\n",
       "    </tr>\n",
       "    <tr>\n",
       "      <th>2</th>\n",
       "      <td>3</td>\n",
       "      <td>[-1.5189074277877808, -0.8654581904411316, -0....</td>\n",
       "    </tr>\n",
       "    <tr>\n",
       "      <th>3</th>\n",
       "      <td>4</td>\n",
       "      <td>[-1.209105372428894, -0.10715539753437042, 0.2...</td>\n",
       "    </tr>\n",
       "    <tr>\n",
       "      <th>4</th>\n",
       "      <td>5</td>\n",
       "      <td>[-0.9011550545692444, -1.474434733390808, 0.19...</td>\n",
       "    </tr>\n",
       "  </tbody>\n",
       "</table>\n",
       "</div>"
      ],
      "text/plain": [
       "  movieId                                          embedding\n",
       "0       1  [0.41867926716804504, -3.812939167022705, -0.1...\n",
       "1       2  [-0.438289076089859, -1.320231556892395, 0.694...\n",
       "2       3  [-1.5189074277877808, -0.8654581904411316, -0....\n",
       "3       4  [-1.209105372428894, -0.10715539753437042, 0.2...\n",
       "4       5  [-0.9011550545692444, -1.474434733390808, 0.19..."
      ]
     },
     "execution_count": 31,
     "metadata": {},
     "output_type": "execute_result"
    }
   ],
   "source": [
    "import pandas as pd\n",
    "\n",
    "embedding_df = pd.DataFrame(embeddings)\n",
    "\n",
    "embedding_df.head()\n"
   ]
  },
  {
   "cell_type": "code",
   "execution_count": 33,
   "metadata": {},
   "outputs": [],
   "source": [
    "embedding_df.to_csv('data/embeddings.csv', index=False)"
   ]
  },
  {
   "cell_type": "code",
   "execution_count": 25,
   "metadata": {},
   "outputs": [
    {
     "data": {
      "text/html": [
       "<div>\n",
       "<style scoped>\n",
       "    .dataframe tbody tr th:only-of-type {\n",
       "        vertical-align: middle;\n",
       "    }\n",
       "\n",
       "    .dataframe tbody tr th {\n",
       "        vertical-align: top;\n",
       "    }\n",
       "\n",
       "    .dataframe thead th {\n",
       "        text-align: right;\n",
       "    }\n",
       "</style>\n",
       "<table border=\"1\" class=\"dataframe\">\n",
       "  <thead>\n",
       "    <tr style=\"text-align: right;\">\n",
       "      <th></th>\n",
       "      <th>movieId</th>\n",
       "      <th>title</th>\n",
       "      <th>plot</th>\n",
       "      <th>embedding</th>\n",
       "    </tr>\n",
       "  </thead>\n",
       "  <tbody>\n",
       "    <tr>\n",
       "      <th>0</th>\n",
       "      <td>1</td>\n",
       "      <td>Toy Story</td>\n",
       "      <td>A cowboy doll is profoundly threatened and jea...</td>\n",
       "      <td>[0.41867926716804504, -3.812939167022705, -0.1...</td>\n",
       "    </tr>\n",
       "    <tr>\n",
       "      <th>1</th>\n",
       "      <td>2</td>\n",
       "      <td>Jumanji</td>\n",
       "      <td>When two kids find and play a magical board ga...</td>\n",
       "      <td>[-0.438289076089859, -1.320231556892395, 0.694...</td>\n",
       "    </tr>\n",
       "    <tr>\n",
       "      <th>2</th>\n",
       "      <td>3</td>\n",
       "      <td>Grumpier Old Men</td>\n",
       "      <td>John and Max resolve to save their beloved bai...</td>\n",
       "      <td>[-1.5189074277877808, -0.8654581904411316, -0....</td>\n",
       "    </tr>\n",
       "    <tr>\n",
       "      <th>3</th>\n",
       "      <td>4</td>\n",
       "      <td>Waiting to Exhale</td>\n",
       "      <td>Based on Terry McMillan's novel, this film fol...</td>\n",
       "      <td>[-1.209105372428894, -0.10715539753437042, 0.2...</td>\n",
       "    </tr>\n",
       "    <tr>\n",
       "      <th>4</th>\n",
       "      <td>5</td>\n",
       "      <td>Father of the Bride Part II</td>\n",
       "      <td>In this sequel, George Banks deals not only wi...</td>\n",
       "      <td>[-0.9011550545692444, -1.474434733390808, 0.19...</td>\n",
       "    </tr>\n",
       "  </tbody>\n",
       "</table>\n",
       "</div>"
      ],
      "text/plain": [
       "  movieId                        title  \\\n",
       "0       1                    Toy Story   \n",
       "1       2                      Jumanji   \n",
       "2       3             Grumpier Old Men   \n",
       "3       4            Waiting to Exhale   \n",
       "4       5  Father of the Bride Part II   \n",
       "\n",
       "                                                plot  \\\n",
       "0  A cowboy doll is profoundly threatened and jea...   \n",
       "1  When two kids find and play a magical board ga...   \n",
       "2  John and Max resolve to save their beloved bai...   \n",
       "3  Based on Terry McMillan's novel, this film fol...   \n",
       "4  In this sequel, George Banks deals not only wi...   \n",
       "\n",
       "                                           embedding  \n",
       "0  [0.41867926716804504, -3.812939167022705, -0.1...  \n",
       "1  [-0.438289076089859, -1.320231556892395, 0.694...  \n",
       "2  [-1.5189074277877808, -0.8654581904411316, -0....  \n",
       "3  [-1.209105372428894, -0.10715539753437042, 0.2...  \n",
       "4  [-0.9011550545692444, -1.474434733390808, 0.19...  "
      ]
     },
     "execution_count": 25,
     "metadata": {},
     "output_type": "execute_result"
    }
   ],
   "source": [
    "# merge movies and embeddings_df on movieId\n",
    "combined_df = movies.merge(embedding_df, on=\"movieId\")\n",
    "\n",
    "combined_df.head()\n"
   ]
  },
  {
   "cell_type": "code",
   "execution_count": 28,
   "metadata": {},
   "outputs": [
    {
     "data": {
      "text/plain": [
       "3200"
      ]
     },
     "execution_count": 28,
     "metadata": {},
     "output_type": "execute_result"
    }
   ],
   "source": [
    "len(embeddings[0]['embedding'])\n"
   ]
  },
  {
   "cell_type": "code",
   "execution_count": null,
   "metadata": {},
   "outputs": [],
   "source": []
  },
  {
   "cell_type": "code",
   "execution_count": 38,
   "metadata": {},
   "outputs": [],
   "source": [
    "prompt = f\"Find me a film that depicts a young man's journey through many historical events in search of true love.\"\n",
    "\n",
    "res = post(\"http://localhost:11434/api/embeddings\", dumps({\n",
    "    \"model\": \"orca-mini\",\n",
    "    \"prompt\": prompt\n",
    "}))\n",
    "\n",
    "json = loads(res.content)\n",
    "\n",
    "\n",
    "\n",
    "prompt_df = pd.DataFrame([{\"prompt\": prompt, \"embedding\": json['embedding']}])\n",
    "\n",
    "\n",
    "prompt_df.to_csv('data/prompt.csv', index=False)\n"
   ]
  },
  {
   "cell_type": "code",
   "execution_count": 48,
   "metadata": {},
   "outputs": [
    {
     "data": {
      "text/plain": [
       "\"\\nApples and pears, guv'nor! Got some nice 'andsome ones in, they'd look lovely on yer mantelpiece!\""
      ]
     },
     "execution_count": 48,
     "metadata": {},
     "output_type": "execute_result"
    }
   ],
   "source": [
    "llm(template.format(fruit=\"apple\"))"
   ]
  },
  {
   "cell_type": "code",
   "execution_count": 59,
   "metadata": {},
   "outputs": [
    {
     "data": {
      "text/plain": [
       "AIMessage(content=\"Dude, the weather is totally gnarly! It's sunny, with a few clouds cruisin' by. The breeze is blowin' offshore, so the waves are lookin' pretty sick. It's gonna be a rad day out there!\", additional_kwargs={}, example=False)"
      ]
     },
     "execution_count": 59,
     "metadata": {},
     "output_type": "execute_result"
    }
   ],
   "source": [
    "from langchain.chat_models.openai import ChatOpenAI\n",
    "chat_llm = ChatOpenAI()\n",
    "\n",
    "\n",
    "from langchain.prompts import SystemMessagePromptTemplate\n",
    "\n",
    "instructions = SystemMessagePromptTemplate.from_template(\"\"\"\n",
    "You are a {location} surfer dude, having a conversation about the surf conditions on the beach.\n",
    "Respond using surfer slang.\n",
    "\"\"\")\n",
    "\n",
    "\n",
    "from langchain.schema import HumanMessage, SystemMessage\n",
    "\n",
    "question  = HumanMessage(content=\"What is the weather like?\")\n"
   ]
  },
  {
   "cell_type": "code",
   "execution_count": null,
   "metadata": {},
   "outputs": [],
   "source": []
  }
 ],
 "metadata": {
  "kernelspec": {
   "display_name": "Python 3",
   "language": "python",
   "name": "python3"
  },
  "language_info": {
   "codemirror_mode": {
    "name": "ipython",
    "version": 3
   },
   "file_extension": ".py",
   "mimetype": "text/x-python",
   "name": "python",
   "nbconvert_exporter": "python",
   "pygments_lexer": "ipython3",
   "version": "3.11.5"
  }
 },
 "nbformat": 4,
 "nbformat_minor": 2
}
